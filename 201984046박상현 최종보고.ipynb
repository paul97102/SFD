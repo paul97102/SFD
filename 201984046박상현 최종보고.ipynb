{
 "cells": [
  {
   "cell_type": "code",
   "execution_count": 2,
   "metadata": {},
   "outputs": [],
   "source": [
    "import pandas as pd\n",
    "import numpy as np"
   ]
  },
  {
   "cell_type": "code",
   "execution_count": 84,
   "metadata": {},
   "outputs": [
    {
     "data": {
      "text/html": [
       "<div>\n",
       "<style scoped>\n",
       "    .dataframe tbody tr th:only-of-type {\n",
       "        vertical-align: middle;\n",
       "    }\n",
       "\n",
       "    .dataframe tbody tr th {\n",
       "        vertical-align: top;\n",
       "    }\n",
       "\n",
       "    .dataframe thead th {\n",
       "        text-align: right;\n",
       "    }\n",
       "</style>\n",
       "<table border=\"1\" class=\"dataframe\">\n",
       "  <thead>\n",
       "    <tr style=\"text-align: right;\">\n",
       "      <th></th>\n",
       "      <th>지형지물</th>\n",
       "      <th>관리번호</th>\n",
       "      <th>관리기관</th>\n",
       "      <th>법정동</th>\n",
       "      <th>지번</th>\n",
       "      <th>정류장종류</th>\n",
       "      <th>위치</th>\n",
       "      <th>정류장유형</th>\n",
       "      <th>X</th>\n",
       "      <th>Y</th>\n",
       "    </tr>\n",
       "  </thead>\n",
       "  <tbody>\n",
       "    <tr>\n",
       "      <th>0</th>\n",
       "      <td>정류장</td>\n",
       "      <td>83000001</td>\n",
       "      <td>용인시</td>\n",
       "      <td>공세동</td>\n",
       "      <td>717 도</td>\n",
       "      <td>마을버스</td>\n",
       "      <td>미지정</td>\n",
       "      <td>지붕설치</td>\n",
       "      <td>210537.479</td>\n",
       "      <td>415994.881</td>\n",
       "    </tr>\n",
       "    <tr>\n",
       "      <th>1</th>\n",
       "      <td>정류장</td>\n",
       "      <td>84000001</td>\n",
       "      <td>용인시</td>\n",
       "      <td>공세동</td>\n",
       "      <td>717 도</td>\n",
       "      <td>마을버스</td>\n",
       "      <td>미지정</td>\n",
       "      <td>지붕설치</td>\n",
       "      <td>210793.879</td>\n",
       "      <td>416207.872</td>\n",
       "    </tr>\n",
       "    <tr>\n",
       "      <th>2</th>\n",
       "      <td>정류장</td>\n",
       "      <td>85000001</td>\n",
       "      <td>용인시</td>\n",
       "      <td>공세동</td>\n",
       "      <td>717 도</td>\n",
       "      <td>마을버스</td>\n",
       "      <td>미지정</td>\n",
       "      <td>지붕설치</td>\n",
       "      <td>209657.840</td>\n",
       "      <td>415557.868</td>\n",
       "    </tr>\n",
       "    <tr>\n",
       "      <th>3</th>\n",
       "      <td>정류장</td>\n",
       "      <td>91281001</td>\n",
       "      <td>용인시</td>\n",
       "      <td>고기동</td>\n",
       "      <td>244-3도</td>\n",
       "      <td>마을버스</td>\n",
       "      <td>바다목장</td>\n",
       "      <td>표지설치</td>\n",
       "      <td>204626.268</td>\n",
       "      <td>428727.451</td>\n",
       "    </tr>\n",
       "    <tr>\n",
       "      <th>4</th>\n",
       "      <td>정류장</td>\n",
       "      <td>91282001</td>\n",
       "      <td>용인시</td>\n",
       "      <td>고기동</td>\n",
       "      <td>755천</td>\n",
       "      <td>마을버스</td>\n",
       "      <td>고기3리입구</td>\n",
       "      <td>표지설치</td>\n",
       "      <td>204888.481</td>\n",
       "      <td>428943.695</td>\n",
       "    </tr>\n",
       "  </tbody>\n",
       "</table>\n",
       "</div>"
      ],
      "text/plain": [
       "  지형지물      관리번호 관리기관  법정동      지번 정류장종류      위치 정류장유형           X           Y\n",
       "0  정류장  83000001  용인시  공세동   717 도  마을버스     미지정  지붕설치  210537.479  415994.881\n",
       "1  정류장  84000001  용인시  공세동   717 도  마을버스     미지정  지붕설치  210793.879  416207.872\n",
       "2  정류장  85000001  용인시  공세동   717 도  마을버스     미지정  지붕설치  209657.840  415557.868\n",
       "3  정류장  91281001  용인시  고기동  244-3도  마을버스    바다목장  표지설치  204626.268  428727.451\n",
       "4  정류장  91282001  용인시  고기동    755천  마을버스  고기3리입구  표지설치  204888.481  428943.695"
      ]
     },
     "execution_count": 84,
     "metadata": {},
     "output_type": "execute_result"
    }
   ],
   "source": [
    "bus = pd.read_csv('data/bus.csv',encoding='cp949')\n",
    "bus.head()"
   ]
  },
  {
   "cell_type": "code",
   "execution_count": 114,
   "metadata": {},
   "outputs": [
    {
     "data": {
      "text/plain": [
       "일반버스        924\n",
       "시내, 시외겸용    345\n",
       "마을버스        108\n",
       "미분류          82\n",
       "택시           38\n",
       "시외버스         18\n",
       "기타            8\n",
       "좌석버스          1\n",
       "Name: 정류장종류, dtype: int64"
      ]
     },
     "execution_count": 114,
     "metadata": {},
     "output_type": "execute_result"
    }
   ],
   "source": [
    "bus.정류장종류.value_counts()"
   ]
  },
  {
   "cell_type": "code",
   "execution_count": 115,
   "metadata": {},
   "outputs": [
    {
     "data": {
      "text/plain": [
       "지붕설치    958\n",
       "표지설치    484\n",
       "미분류      80\n",
       "기타        2\n",
       "Name: 정류장유형, dtype: int64"
      ]
     },
     "execution_count": 115,
     "metadata": {},
     "output_type": "execute_result"
    }
   ],
   "source": [
    "bus.정류장유형.value_counts()"
   ]
  },
  {
   "cell_type": "code",
   "execution_count": 5,
   "metadata": {},
   "outputs": [
    {
     "data": {
      "text/plain": [
       "(1524, 10)"
      ]
     },
     "execution_count": 5,
     "metadata": {},
     "output_type": "execute_result"
    }
   ],
   "source": [
    "#행과 열의 수입니다\n",
    "bus.shape"
   ]
  },
  {
   "cell_type": "code",
   "execution_count": 7,
   "metadata": {},
   "outputs": [
    {
     "name": "stdout",
     "output_type": "stream",
     "text": [
      "<class 'pandas.core.frame.DataFrame'>\n",
      "RangeIndex: 1524 entries, 0 to 1523\n",
      "Data columns (total 10 columns):\n",
      " #   Column  Non-Null Count  Dtype  \n",
      "---  ------  --------------  -----  \n",
      " 0   지형지물    1524 non-null   object \n",
      " 1   관리번호    1524 non-null   int64  \n",
      " 2   관리기관    1524 non-null   object \n",
      " 3   법정동     1524 non-null   object \n",
      " 4   지번      1524 non-null   object \n",
      " 5   정류장종류   1524 non-null   object \n",
      " 6   위치      1524 non-null   object \n",
      " 7   정류장유형   1524 non-null   object \n",
      " 8   X       1524 non-null   float64\n",
      " 9   Y       1524 non-null   float64\n",
      "dtypes: float64(2), int64(1), object(7)\n",
      "memory usage: 119.2+ KB\n"
     ]
    }
   ],
   "source": [
    "#info를 통해 더많은 정보를 얻어줍니다\n",
    "bus.info()"
   ]
  },
  {
   "cell_type": "code",
   "execution_count": 28,
   "metadata": {},
   "outputs": [
    {
     "data": {
      "text/html": [
       "<div>\n",
       "<style scoped>\n",
       "    .dataframe tbody tr th:only-of-type {\n",
       "        vertical-align: middle;\n",
       "    }\n",
       "\n",
       "    .dataframe tbody tr th {\n",
       "        vertical-align: top;\n",
       "    }\n",
       "\n",
       "    .dataframe thead th {\n",
       "        text-align: right;\n",
       "    }\n",
       "</style>\n",
       "<table border=\"1\" class=\"dataframe\">\n",
       "  <thead>\n",
       "    <tr style=\"text-align: right;\">\n",
       "      <th></th>\n",
       "      <th>관리번호</th>\n",
       "      <th>X</th>\n",
       "      <th>Y</th>\n",
       "    </tr>\n",
       "  </thead>\n",
       "  <tbody>\n",
       "    <tr>\n",
       "      <th>count</th>\n",
       "      <td>1.524000e+03</td>\n",
       "      <td>1524.000000</td>\n",
       "      <td>1524.000000</td>\n",
       "    </tr>\n",
       "    <tr>\n",
       "      <th>mean</th>\n",
       "      <td>1.346800e+08</td>\n",
       "      <td>214655.934083</td>\n",
       "      <td>418048.281801</td>\n",
       "    </tr>\n",
       "    <tr>\n",
       "      <th>std</th>\n",
       "      <td>4.430982e+07</td>\n",
       "      <td>7550.055604</td>\n",
       "      <td>6875.996457</td>\n",
       "    </tr>\n",
       "    <tr>\n",
       "      <th>min</th>\n",
       "      <td>8.300000e+07</td>\n",
       "      <td>202977.184000</td>\n",
       "      <td>398641.214000</td>\n",
       "    </tr>\n",
       "    <tr>\n",
       "      <th>25%</th>\n",
       "      <td>9.232523e+07</td>\n",
       "      <td>208882.195750</td>\n",
       "      <td>414862.384000</td>\n",
       "    </tr>\n",
       "    <tr>\n",
       "      <th>50%</th>\n",
       "      <td>1.305060e+08</td>\n",
       "      <td>211709.527500</td>\n",
       "      <td>419143.165000</td>\n",
       "    </tr>\n",
       "    <tr>\n",
       "      <th>75%</th>\n",
       "      <td>2.011100e+08</td>\n",
       "      <td>219387.243750</td>\n",
       "      <td>423943.378250</td>\n",
       "    </tr>\n",
       "    <tr>\n",
       "      <th>max</th>\n",
       "      <td>2.015401e+08</td>\n",
       "      <td>236849.142000</td>\n",
       "      <td>429165.512000</td>\n",
       "    </tr>\n",
       "  </tbody>\n",
       "</table>\n",
       "</div>"
      ],
      "text/plain": [
       "               관리번호              X              Y\n",
       "count  1.524000e+03    1524.000000    1524.000000\n",
       "mean   1.346800e+08  214655.934083  418048.281801\n",
       "std    4.430982e+07    7550.055604    6875.996457\n",
       "min    8.300000e+07  202977.184000  398641.214000\n",
       "25%    9.232523e+07  208882.195750  414862.384000\n",
       "50%    1.305060e+08  211709.527500  419143.165000\n",
       "75%    2.011100e+08  219387.243750  423943.378250\n",
       "max    2.015401e+08  236849.142000  429165.512000"
      ]
     },
     "execution_count": 28,
     "metadata": {},
     "output_type": "execute_result"
    }
   ],
   "source": [
    "#기술통계량 구하기\n",
    "bus.describe()"
   ]
  },
  {
   "cell_type": "code",
   "execution_count": 30,
   "metadata": {},
   "outputs": [
    {
     "data": {
      "text/html": [
       "<div>\n",
       "<style scoped>\n",
       "    .dataframe tbody tr th:only-of-type {\n",
       "        vertical-align: middle;\n",
       "    }\n",
       "\n",
       "    .dataframe tbody tr th {\n",
       "        vertical-align: top;\n",
       "    }\n",
       "\n",
       "    .dataframe thead th {\n",
       "        text-align: right;\n",
       "    }\n",
       "</style>\n",
       "<table border=\"1\" class=\"dataframe\">\n",
       "  <thead>\n",
       "    <tr style=\"text-align: right;\">\n",
       "      <th></th>\n",
       "      <th>count</th>\n",
       "      <th>unique</th>\n",
       "      <th>top</th>\n",
       "      <th>freq</th>\n",
       "    </tr>\n",
       "  </thead>\n",
       "  <tbody>\n",
       "    <tr>\n",
       "      <th>지형지물</th>\n",
       "      <td>1524</td>\n",
       "      <td>1</td>\n",
       "      <td>정류장</td>\n",
       "      <td>1524</td>\n",
       "    </tr>\n",
       "    <tr>\n",
       "      <th>관리기관</th>\n",
       "      <td>1524</td>\n",
       "      <td>1</td>\n",
       "      <td>용인시</td>\n",
       "      <td>1524</td>\n",
       "    </tr>\n",
       "    <tr>\n",
       "      <th>법정동</th>\n",
       "      <td>1524</td>\n",
       "      <td>102</td>\n",
       "      <td>풍덕천동</td>\n",
       "      <td>90</td>\n",
       "    </tr>\n",
       "    <tr>\n",
       "      <th>지번</th>\n",
       "      <td>1524</td>\n",
       "      <td>1108</td>\n",
       "      <td>1045도</td>\n",
       "      <td>15</td>\n",
       "    </tr>\n",
       "    <tr>\n",
       "      <th>정류장종류</th>\n",
       "      <td>1524</td>\n",
       "      <td>8</td>\n",
       "      <td>일반버스</td>\n",
       "      <td>924</td>\n",
       "    </tr>\n",
       "    <tr>\n",
       "      <th>위치</th>\n",
       "      <td>1524</td>\n",
       "      <td>751</td>\n",
       "      <td></td>\n",
       "      <td>390</td>\n",
       "    </tr>\n",
       "    <tr>\n",
       "      <th>정류장유형</th>\n",
       "      <td>1524</td>\n",
       "      <td>4</td>\n",
       "      <td>지붕설치</td>\n",
       "      <td>958</td>\n",
       "    </tr>\n",
       "  </tbody>\n",
       "</table>\n",
       "</div>"
      ],
      "text/plain": [
       "      count unique    top  freq\n",
       "지형지물   1524      1    정류장  1524\n",
       "관리기관   1524      1    용인시  1524\n",
       "법정동    1524    102   풍덕천동    90\n",
       "지번     1524   1108  1045도    15\n",
       "정류장종류  1524      8   일반버스   924\n",
       "위치     1524    751          390\n",
       "정류장유형  1524      4   지붕설치   958"
      ]
     },
     "execution_count": 30,
     "metadata": {},
     "output_type": "execute_result"
    }
   ],
   "source": [
    "#문자열에 대한 통계\n",
    "bus.describe(include=['object']).T"
   ]
  },
  {
   "cell_type": "code",
   "execution_count": null,
   "metadata": {},
   "outputs": [],
   "source": [
    "기술통계를 통해서 데이터형식변환으로 메모리를 줄여줍니다"
   ]
  },
  {
   "cell_type": "code",
   "execution_count": 31,
   "metadata": {},
   "outputs": [
    {
     "data": {
      "text/plain": [
       "지형지물     0\n",
       "관리번호     0\n",
       "관리기관     0\n",
       "법정동      0\n",
       "지번       0\n",
       "정류장종류    0\n",
       "위치       0\n",
       "정류장유형    0\n",
       "X        0\n",
       "Y        0\n",
       "dtype: int64"
      ]
     },
     "execution_count": 31,
     "metadata": {},
     "output_type": "execute_result"
    }
   ],
   "source": [
    "#na값 확인\n",
    "bus.isnull().sum()"
   ]
  },
  {
   "cell_type": "code",
   "execution_count": 97,
   "metadata": {},
   "outputs": [],
   "source": [
    "bus['관리번호']=bus['관리번호'].astype(np.int32)"
   ]
  },
  {
   "cell_type": "code",
   "execution_count": 85,
   "metadata": {},
   "outputs": [],
   "source": [
    "bus['X']=bus['X'].astype(np.float32)\n",
    "bus['Y']=bus['Y'].astype(np.float32)"
   ]
  },
  {
   "cell_type": "code",
   "execution_count": 89,
   "metadata": {},
   "outputs": [
    {
     "data": {
      "text/plain": [
       "지형지물        1\n",
       "관리기관        1\n",
       "법정동       102\n",
       "지번       1108\n",
       "정류장종류       8\n",
       "위치        751\n",
       "정류장유형       4\n",
       "dtype: int64"
      ]
     },
     "execution_count": 89,
     "metadata": {},
     "output_type": "execute_result"
    }
   ],
   "source": [
    "#고유값이 적은걸 확인해준다\n",
    "bus.select_dtypes(include=['object']).nunique()"
   ]
  },
  {
   "cell_type": "code",
   "execution_count": 93,
   "metadata": {},
   "outputs": [],
   "source": [
    "bus['지형지물'] = bus['지형지물'].astype('category')\n",
    "bus['관리기관'] = bus['관리기관'].astype('category')\n",
    "bus['정류장종류'] = bus['정류장종류'].astype('category')\n",
    "bus['정류장유형'] = bus['정류장유형'].astype('category')\n",
    "bus['법정동'] = bus['법정동'].astype('category')"
   ]
  },
  {
   "cell_type": "code",
   "execution_count": 98,
   "metadata": {},
   "outputs": [
    {
     "name": "stdout",
     "output_type": "stream",
     "text": [
      "<class 'pandas.core.frame.DataFrame'>\n",
      "RangeIndex: 1524 entries, 0 to 1523\n",
      "Data columns (total 10 columns):\n",
      " #   Column  Non-Null Count  Dtype   \n",
      "---  ------  --------------  -----   \n",
      " 0   지형지물    1524 non-null   category\n",
      " 1   관리번호    1524 non-null   int32   \n",
      " 2   관리기관    1524 non-null   category\n",
      " 3   법정동     1524 non-null   category\n",
      " 4   지번      1524 non-null   object  \n",
      " 5   정류장종류   1524 non-null   category\n",
      " 6   위치      1524 non-null   object  \n",
      " 7   정류장유형   1524 non-null   category\n",
      " 8   X       1524 non-null   float32 \n",
      " 9   Y       1524 non-null   float32 \n",
      "dtypes: category(5), float32(2), int32(1), object(2)\n",
      "memory usage: 55.8+ KB\n"
     ]
    }
   ],
   "source": [
    "#데이터가 120kb 에서 60kb로 줄어들었다\n",
    "bus.info()"
   ]
  },
  {
   "cell_type": "code",
   "execution_count": null,
   "metadata": {},
   "outputs": [],
   "source": [
    "groupby를 통해 각동마다 정류장종류,정류장유형의 수를 알수있다"
   ]
  },
  {
   "cell_type": "code",
   "execution_count": 62,
   "metadata": {},
   "outputs": [
    {
     "data": {
      "text/html": [
       "<div>\n",
       "<style scoped>\n",
       "    .dataframe tbody tr th:only-of-type {\n",
       "        vertical-align: middle;\n",
       "    }\n",
       "\n",
       "    .dataframe tbody tr th {\n",
       "        vertical-align: top;\n",
       "    }\n",
       "\n",
       "    .dataframe thead th {\n",
       "        text-align: right;\n",
       "    }\n",
       "</style>\n",
       "<table border=\"1\" class=\"dataframe\">\n",
       "  <thead>\n",
       "    <tr style=\"text-align: right;\">\n",
       "      <th>정류장종류</th>\n",
       "      <th>기타</th>\n",
       "      <th>마을버스</th>\n",
       "      <th>미분류</th>\n",
       "      <th>시내, 시외겸용</th>\n",
       "      <th>시외버스</th>\n",
       "      <th>일반버스</th>\n",
       "      <th>좌석버스</th>\n",
       "      <th>택시</th>\n",
       "    </tr>\n",
       "    <tr>\n",
       "      <th>법정동</th>\n",
       "      <th></th>\n",
       "      <th></th>\n",
       "      <th></th>\n",
       "      <th></th>\n",
       "      <th></th>\n",
       "      <th></th>\n",
       "      <th></th>\n",
       "      <th></th>\n",
       "    </tr>\n",
       "  </thead>\n",
       "  <tbody>\n",
       "    <tr>\n",
       "      <th>가좌리</th>\n",
       "      <td>0</td>\n",
       "      <td>0</td>\n",
       "      <td>0</td>\n",
       "      <td>2</td>\n",
       "      <td>0</td>\n",
       "      <td>1</td>\n",
       "      <td>0</td>\n",
       "      <td>0</td>\n",
       "    </tr>\n",
       "    <tr>\n",
       "      <th>가창리</th>\n",
       "      <td>0</td>\n",
       "      <td>0</td>\n",
       "      <td>0</td>\n",
       "      <td>0</td>\n",
       "      <td>0</td>\n",
       "      <td>4</td>\n",
       "      <td>0</td>\n",
       "      <td>0</td>\n",
       "    </tr>\n",
       "    <tr>\n",
       "      <th>갈담리</th>\n",
       "      <td>0</td>\n",
       "      <td>0</td>\n",
       "      <td>4</td>\n",
       "      <td>2</td>\n",
       "      <td>0</td>\n",
       "      <td>5</td>\n",
       "      <td>0</td>\n",
       "      <td>0</td>\n",
       "    </tr>\n",
       "    <tr>\n",
       "      <th>고기동</th>\n",
       "      <td>0</td>\n",
       "      <td>8</td>\n",
       "      <td>13</td>\n",
       "      <td>0</td>\n",
       "      <td>0</td>\n",
       "      <td>0</td>\n",
       "      <td>0</td>\n",
       "      <td>0</td>\n",
       "    </tr>\n",
       "    <tr>\n",
       "      <th>고당리</th>\n",
       "      <td>0</td>\n",
       "      <td>0</td>\n",
       "      <td>0</td>\n",
       "      <td>0</td>\n",
       "      <td>0</td>\n",
       "      <td>2</td>\n",
       "      <td>0</td>\n",
       "      <td>0</td>\n",
       "    </tr>\n",
       "    <tr>\n",
       "      <th>...</th>\n",
       "      <td>...</td>\n",
       "      <td>...</td>\n",
       "      <td>...</td>\n",
       "      <td>...</td>\n",
       "      <td>...</td>\n",
       "      <td>...</td>\n",
       "      <td>...</td>\n",
       "      <td>...</td>\n",
       "    </tr>\n",
       "    <tr>\n",
       "      <th>하갈동</th>\n",
       "      <td>0</td>\n",
       "      <td>0</td>\n",
       "      <td>3</td>\n",
       "      <td>3</td>\n",
       "      <td>0</td>\n",
       "      <td>5</td>\n",
       "      <td>0</td>\n",
       "      <td>0</td>\n",
       "    </tr>\n",
       "    <tr>\n",
       "      <th>학일리</th>\n",
       "      <td>0</td>\n",
       "      <td>0</td>\n",
       "      <td>0</td>\n",
       "      <td>0</td>\n",
       "      <td>0</td>\n",
       "      <td>1</td>\n",
       "      <td>0</td>\n",
       "      <td>0</td>\n",
       "    </tr>\n",
       "    <tr>\n",
       "      <th>해곡동</th>\n",
       "      <td>0</td>\n",
       "      <td>0</td>\n",
       "      <td>1</td>\n",
       "      <td>0</td>\n",
       "      <td>0</td>\n",
       "      <td>9</td>\n",
       "      <td>0</td>\n",
       "      <td>0</td>\n",
       "    </tr>\n",
       "    <tr>\n",
       "      <th>호동</th>\n",
       "      <td>0</td>\n",
       "      <td>1</td>\n",
       "      <td>0</td>\n",
       "      <td>0</td>\n",
       "      <td>0</td>\n",
       "      <td>0</td>\n",
       "      <td>0</td>\n",
       "      <td>0</td>\n",
       "    </tr>\n",
       "    <tr>\n",
       "      <th>화산리</th>\n",
       "      <td>0</td>\n",
       "      <td>0</td>\n",
       "      <td>0</td>\n",
       "      <td>0</td>\n",
       "      <td>0</td>\n",
       "      <td>3</td>\n",
       "      <td>0</td>\n",
       "      <td>0</td>\n",
       "    </tr>\n",
       "  </tbody>\n",
       "</table>\n",
       "<p>102 rows × 8 columns</p>\n",
       "</div>"
      ],
      "text/plain": [
       "정류장종류  기타  마을버스  미분류  시내, 시외겸용  시외버스  일반버스  좌석버스  택시\n",
       "법정동                                                 \n",
       "가좌리     0     0    0         2     0     1     0   0\n",
       "가창리     0     0    0         0     0     4     0   0\n",
       "갈담리     0     0    4         2     0     5     0   0\n",
       "고기동     0     8   13         0     0     0     0   0\n",
       "고당리     0     0    0         0     0     2     0   0\n",
       "..     ..   ...  ...       ...   ...   ...   ...  ..\n",
       "하갈동     0     0    3         3     0     5     0   0\n",
       "학일리     0     0    0         0     0     1     0   0\n",
       "해곡동     0     0    1         0     0     9     0   0\n",
       "호동      0     1    0         0     0     0     0   0\n",
       "화산리     0     0    0         0     0     3     0   0\n",
       "\n",
       "[102 rows x 8 columns]"
      ]
     },
     "execution_count": 62,
     "metadata": {},
     "output_type": "execute_result"
    }
   ],
   "source": [
    "(\n",
    "    bus\n",
    "    .groupby(['법정동','정류장종류'])\n",
    "    .size()\n",
    "    .unstack(fill_value=0)\n",
    ")"
   ]
  },
  {
   "cell_type": "code",
   "execution_count": 79,
   "metadata": {},
   "outputs": [
    {
     "data": {
      "text/html": [
       "<div>\n",
       "<style scoped>\n",
       "    .dataframe tbody tr th:only-of-type {\n",
       "        vertical-align: middle;\n",
       "    }\n",
       "\n",
       "    .dataframe tbody tr th {\n",
       "        vertical-align: top;\n",
       "    }\n",
       "\n",
       "    .dataframe thead th {\n",
       "        text-align: right;\n",
       "    }\n",
       "</style>\n",
       "<table border=\"1\" class=\"dataframe\">\n",
       "  <thead>\n",
       "    <tr style=\"text-align: right;\">\n",
       "      <th>정류장유형</th>\n",
       "      <th>기타</th>\n",
       "      <th>미분류</th>\n",
       "      <th>지붕설치</th>\n",
       "      <th>표지설치</th>\n",
       "    </tr>\n",
       "    <tr>\n",
       "      <th>법정동</th>\n",
       "      <th></th>\n",
       "      <th></th>\n",
       "      <th></th>\n",
       "      <th></th>\n",
       "    </tr>\n",
       "  </thead>\n",
       "  <tbody>\n",
       "    <tr>\n",
       "      <th>가좌리</th>\n",
       "      <td>0</td>\n",
       "      <td>0</td>\n",
       "      <td>2</td>\n",
       "      <td>1</td>\n",
       "    </tr>\n",
       "    <tr>\n",
       "      <th>가창리</th>\n",
       "      <td>0</td>\n",
       "      <td>0</td>\n",
       "      <td>4</td>\n",
       "      <td>0</td>\n",
       "    </tr>\n",
       "    <tr>\n",
       "      <th>갈담리</th>\n",
       "      <td>0</td>\n",
       "      <td>4</td>\n",
       "      <td>3</td>\n",
       "      <td>4</td>\n",
       "    </tr>\n",
       "    <tr>\n",
       "      <th>고기동</th>\n",
       "      <td>0</td>\n",
       "      <td>13</td>\n",
       "      <td>1</td>\n",
       "      <td>7</td>\n",
       "    </tr>\n",
       "    <tr>\n",
       "      <th>고당리</th>\n",
       "      <td>0</td>\n",
       "      <td>0</td>\n",
       "      <td>1</td>\n",
       "      <td>1</td>\n",
       "    </tr>\n",
       "    <tr>\n",
       "      <th>...</th>\n",
       "      <td>...</td>\n",
       "      <td>...</td>\n",
       "      <td>...</td>\n",
       "      <td>...</td>\n",
       "    </tr>\n",
       "    <tr>\n",
       "      <th>하갈동</th>\n",
       "      <td>0</td>\n",
       "      <td>3</td>\n",
       "      <td>7</td>\n",
       "      <td>1</td>\n",
       "    </tr>\n",
       "    <tr>\n",
       "      <th>학일리</th>\n",
       "      <td>0</td>\n",
       "      <td>0</td>\n",
       "      <td>1</td>\n",
       "      <td>0</td>\n",
       "    </tr>\n",
       "    <tr>\n",
       "      <th>해곡동</th>\n",
       "      <td>0</td>\n",
       "      <td>1</td>\n",
       "      <td>5</td>\n",
       "      <td>4</td>\n",
       "    </tr>\n",
       "    <tr>\n",
       "      <th>호동</th>\n",
       "      <td>0</td>\n",
       "      <td>0</td>\n",
       "      <td>1</td>\n",
       "      <td>0</td>\n",
       "    </tr>\n",
       "    <tr>\n",
       "      <th>화산리</th>\n",
       "      <td>0</td>\n",
       "      <td>0</td>\n",
       "      <td>3</td>\n",
       "      <td>0</td>\n",
       "    </tr>\n",
       "  </tbody>\n",
       "</table>\n",
       "<p>102 rows × 4 columns</p>\n",
       "</div>"
      ],
      "text/plain": [
       "정류장유형  기타  미분류  지붕설치  표지설치\n",
       "법정동                       \n",
       "가좌리     0    0     2     1\n",
       "가창리     0    0     4     0\n",
       "갈담리     0    4     3     4\n",
       "고기동     0   13     1     7\n",
       "고당리     0    0     1     1\n",
       "..     ..  ...   ...   ...\n",
       "하갈동     0    3     7     1\n",
       "학일리     0    0     1     0\n",
       "해곡동     0    1     5     4\n",
       "호동      0    0     1     0\n",
       "화산리     0    0     3     0\n",
       "\n",
       "[102 rows x 4 columns]"
      ]
     },
     "execution_count": 79,
     "metadata": {},
     "output_type": "execute_result"
    }
   ],
   "source": [
    "(\n",
    "    bus\n",
    "    .groupby(['법정동','정류장유형'])\n",
    "    .size()\n",
    "    .unstack(fill_value=0)\n",
    ")"
   ]
  },
  {
   "cell_type": "code",
   "execution_count": 82,
   "metadata": {},
   "outputs": [
    {
     "data": {
      "text/plain": [
       "일반버스        924\n",
       "시내, 시외겸용    345\n",
       "마을버스        108\n",
       "미분류          82\n",
       "택시           38\n",
       "시외버스         18\n",
       "기타            8\n",
       "좌석버스          1\n",
       "Name: 정류장종류, dtype: int64"
      ]
     },
     "execution_count": 82,
     "metadata": {},
     "output_type": "execute_result"
    }
   ],
   "source": [
    "bus.정류장종류.value_counts()"
   ]
  },
  {
   "cell_type": "code",
   "execution_count": 86,
   "metadata": {},
   "outputs": [],
   "source": [
    "from matplotlib import font_manager, rc\n",
    "font_name = font_manager.FontProperties(fname=\"c:/Windows/Fonts/malgun.ttf\").get_name()\n",
    "rc('font', family=font_name)\n",
    "#한글 폰트 깨짐 방지"
   ]
  },
  {
   "cell_type": "code",
   "execution_count": null,
   "metadata": {},
   "outputs": [],
   "source": [
    "용인시 전체 정류장종류의 개수를 그래프로 나타내기"
   ]
  },
  {
   "cell_type": "code",
   "execution_count": 87,
   "metadata": {},
   "outputs": [
    {
     "data": {
      "text/plain": [
       "<BarContainer object of 8 artists>"
      ]
     },
     "execution_count": 87,
     "metadata": {},
     "output_type": "execute_result"
    },
    {
     "data": {
      "image/png": "[encoded data removed]",
      "text/plain": [
       "<Figure size 720x576 with 1 Axes>"
      ]
     },
     "metadata": {
      "needs_background": "light"
     },
     "output_type": "display_data"
    }
   ],
   "source": [
    "#matplotlib\n",
    "import matplotlib.pyplot as plt\n",
    "fig, ax = plt.subplots(figsize=(10, 8))\n",
    "plt.bar(bus.정류장종류.value_counts().index, bus.정류장종류.value_counts())"
   ]
  },
  {
   "cell_type": "code",
   "execution_count": 88,
   "metadata": {},
   "outputs": [
    {
     "name": "stderr",
     "output_type": "stream",
     "text": [
      "C:\\Users\\paul9\\anaconda3\\lib\\site-packages\\seaborn\\_decorators.py:36: FutureWarning: Pass the following variables as keyword args: x, y. From version 0.12, the only valid positional argument will be `data`, and passing other arguments without an explicit keyword will result in an error or misinterpretation.\n",
      "  warnings.warn(\n"
     ]
    },
    {
     "data": {
      "text/plain": [
       "<AxesSubplot:ylabel='정류장종류'>"
      ]
     },
     "execution_count": 88,
     "metadata": {},
     "output_type": "execute_result"
    },
    {
     "data": {
      "image/png": "[encoded data removed]",
      "text/plain": [
       "<Figure size 432x288 with 1 Axes>"
      ]
     },
     "metadata": {
      "needs_background": "light"
     },
     "output_type": "display_data"
    }
   ],
   "source": [
    "import seaborn as sns\n",
    "sns.barplot(bus.정류장종류.value_counts().index, bus.정류장종류.value_counts())"
   ]
  },
  {
   "cell_type": "code",
   "execution_count": 89,
   "metadata": {},
   "outputs": [
    {
     "data": {
      "text/plain": [
       "풍덕천동    90\n",
       "죽전동     77\n",
       "영덕동     54\n",
       "신갈동     54\n",
       "동천동     47\n",
       "        ..\n",
       "문촌리      1\n",
       "학일리      1\n",
       "호동       1\n",
       "석천리      1\n",
       "정수리      1\n",
       "Name: 법정동, Length: 102, dtype: int64"
      ]
     },
     "execution_count": 89,
     "metadata": {},
     "output_type": "execute_result"
    }
   ],
   "source": [
    "bus.법정동.value_counts()"
   ]
  },
  {
   "cell_type": "code",
   "execution_count": 90,
   "metadata": {},
   "outputs": [
    {
     "data": {
      "text/plain": [
       "Index(['풍덕천동', '죽전동', '영덕동', '신갈동', '동천동', '마북동'], dtype='object')"
      ]
     },
     "execution_count": 90,
     "metadata": {},
     "output_type": "execute_result"
    }
   ],
   "source": [
    "top = bus.법정동.value_counts().index[:6]\n",
    "top"
   ]
  },
  {
   "cell_type": "code",
   "execution_count": 124,
   "metadata": {},
   "outputs": [
    {
     "data": {
      "text/plain": [
       "<AxesSubplot:xlabel='count', ylabel='법정동'>"
      ]
     },
     "execution_count": 124,
     "metadata": {},
     "output_type": "execute_result"
    },
    {
     "data": {
      "image/png": "[encoded data removed]",
      "text/plain": [
       "<Figure size 720x576 with 1 Axes>"
      ]
     },
     "metadata": {
      "needs_background": "light"
     },
     "output_type": "display_data"
    }
   ],
   "source": [
    "import seaborn as sns\n",
    "fig, ax = plt.subplots(figsize=(10, 8))\n",
    "top = bus.법정동.value_counts().index[:6]\n",
    "sns.countplot(y='법정동',\n",
    " data=(bus.assign(\n",
    " 법정동=bus.법정동.where(bus.법정동.isin(top)))\n",
    " ),\n",
    "              hue='정류장종류',\n",
    "              hue_order=['마을버스', '일반버스', '택시'],\n",
    " )"
   ]
  },
  {
   "cell_type": "code",
   "execution_count": 133,
   "metadata": {},
   "outputs": [],
   "source": [
    "법정동=bus['법정동']"
   ]
  },
  {
   "cell_type": "code",
   "execution_count": 136,
   "metadata": {},
   "outputs": [
    {
     "data": {
      "text/plain": [
       "성복동    40\n",
       "상하동    21\n",
       "Name: 법정동, dtype: int64"
      ]
     },
     "execution_count": 136,
     "metadata": {},
     "output_type": "execute_result"
    }
   ],
   "source": [
    "asd=법정동.isin(['성복동','상하동'])\n",
    "법정동[asd].value_counts()"
   ]
  },
  {
   "cell_type": "code",
   "execution_count": 137,
   "metadata": {},
   "outputs": [
    {
     "data": {
      "text/plain": [
       "<BarContainer object of 2 artists>"
      ]
     },
     "execution_count": 137,
     "metadata": {},
     "output_type": "execute_result"
    },
    {
     "data": {
      "image/png": "[encoded data removed]",
      "text/plain": [
       "<Figure size 720x576 with 1 Axes>"
      ]
     },
     "metadata": {
      "needs_background": "light"
     },
     "output_type": "display_data"
    }
   ],
   "source": [
    "#matplotlib\n",
    "import matplotlib.pyplot as plt\n",
    "fig, ax = plt.subplots(figsize=(10, 8))\n",
    "plt.bar(법정동[asd].value_counts().index, 법정동[asd].value_counts())"
   ]
  },
  {
   "cell_type": "code",
   "execution_count": 152,
   "metadata": {},
   "outputs": [
    {
     "data": {
      "text/plain": [
       "<AxesSubplot:xlabel='count', ylabel='make'>"
      ]
     },
     "execution_count": 152,
     "metadata": {},
     "output_type": "execute_result"
    },
    {
     "data": {
      "image/png": "[encoded data removed]",
      "text/plain": [
       "<Figure size 720x720 with 1 Axes>"
      ]
     },
     "metadata": {
      "needs_background": "light"
     },
     "output_type": "display_data"
    }
   ],
   "source": [
    "import seaborn as sns\n",
    "fig, ax = plt.subplots(figsize=(10, 10))\n",
    "qwe=법정동[asd].value_counts().index[:2]\n",
    "sns.countplot(y='make',\n",
    " data=(bus.assign(\n",
    " make=bus.법정동.where(bus.법정동.isin(qwe)))\n",
    " ),\n",
    "              hue='정류장종류',\n",
    "              hue_order=['일반버스','시내, 시외겸용'],\n",
    " )"
   ]
  },
  {
   "cell_type": "code",
   "execution_count": null,
   "metadata": {},
   "outputs": [],
   "source": []
  },
  {
   "cell_type": "code",
   "execution_count": null,
   "metadata": {},
   "outputs": [],
   "source": []
  },
  {
   "cell_type": "code",
   "execution_count": null,
   "metadata": {},
   "outputs": [],
   "source": []
  },
  {
   "cell_type": "code",
   "execution_count": null,
   "metadata": {},
   "outputs": [],
   "source": []
  },
  {
   "cell_type": "code",
   "execution_count": null,
   "metadata": {},
   "outputs": [],
   "source": []
  },
  {
   "cell_type": "code",
   "execution_count": null,
   "metadata": {},
   "outputs": [],
   "source": []
  },
  {
   "cell_type": "code",
   "execution_count": null,
   "metadata": {},
   "outputs": [],
   "source": []
  }
 ],
 "metadata": {
  "kernelspec": {
   "display_name": "Python 3",
   "language": "python",
   "name": "python3"
  },
  "language_info": {
   "codemirror_mode": {
    "name": "ipython",
    "version": 3
   },
   "file_extension": ".py",
   "mimetype": "text/x-python",
   "name": "python",
   "nbconvert_exporter": "python",
   "pygments_lexer": "ipython3",
   "version": "3.8.5"
  }
 },
 "nbformat": 4,
 "nbformat_minor": 4
}
