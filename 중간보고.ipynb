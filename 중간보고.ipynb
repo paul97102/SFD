{
 "cells": [
  {
   "cell_type": "code",
   "execution_count": 1,
   "metadata": {},
   "outputs": [],
   "source": [
    "import pandas as pd\n",
    "import numpy as np"
   ]
  },
  {
   "cell_type": "code",
   "execution_count": null,
   "metadata": {},
   "outputs": [],
   "source": [
    "제가 살고있는 동네인 용인시 버스정류장에 대한 데이터 입니다\n",
    "이 데이터로 용인시에 있는 버스정류장의 유형과 정류장종류 등을 알아보고\n",
    "갯수가 많은 지역을 몇개만 뽑아서 그래프로 표현\n",
    "제가 이사하기전 동네인 상하동과 현재살고있는 동네인 성복동의 정류장을 여러가지로 비교하고"
   ]
  },
  {
   "cell_type": "code",
   "execution_count": 80,
   "metadata": {},
   "outputs": [
    {
     "data": {
      "text/html": [
       "<div>\n",
       "<style scoped>\n",
       "    .dataframe tbody tr th:only-of-type {\n",
       "        vertical-align: middle;\n",
       "    }\n",
       "\n",
       "    .dataframe tbody tr th {\n",
       "        vertical-align: top;\n",
       "    }\n",
       "\n",
       "    .dataframe thead th {\n",
       "        text-align: right;\n",
       "    }\n",
       "</style>\n",
       "<table border=\"1\" class=\"dataframe\">\n",
       "  <thead>\n",
       "    <tr style=\"text-align: right;\">\n",
       "      <th></th>\n",
       "      <th>지형지물</th>\n",
       "      <th>관리번호</th>\n",
       "      <th>관리기관</th>\n",
       "      <th>법정동</th>\n",
       "      <th>지번</th>\n",
       "      <th>정류장종류</th>\n",
       "      <th>위치</th>\n",
       "      <th>정류장유형</th>\n",
       "      <th>X</th>\n",
       "      <th>Y</th>\n",
       "    </tr>\n",
       "  </thead>\n",
       "  <tbody>\n",
       "    <tr>\n",
       "      <th>0</th>\n",
       "      <td>정류장</td>\n",
       "      <td>83000001</td>\n",
       "      <td>용인시</td>\n",
       "      <td>공세동</td>\n",
       "      <td>717 도</td>\n",
       "      <td>마을버스</td>\n",
       "      <td>미지정</td>\n",
       "      <td>지붕설치</td>\n",
       "      <td>210537.479</td>\n",
       "      <td>415994.881</td>\n",
       "    </tr>\n",
       "    <tr>\n",
       "      <th>1</th>\n",
       "      <td>정류장</td>\n",
       "      <td>84000001</td>\n",
       "      <td>용인시</td>\n",
       "      <td>공세동</td>\n",
       "      <td>717 도</td>\n",
       "      <td>마을버스</td>\n",
       "      <td>미지정</td>\n",
       "      <td>지붕설치</td>\n",
       "      <td>210793.879</td>\n",
       "      <td>416207.872</td>\n",
       "    </tr>\n",
       "    <tr>\n",
       "      <th>2</th>\n",
       "      <td>정류장</td>\n",
       "      <td>85000001</td>\n",
       "      <td>용인시</td>\n",
       "      <td>공세동</td>\n",
       "      <td>717 도</td>\n",
       "      <td>마을버스</td>\n",
       "      <td>미지정</td>\n",
       "      <td>지붕설치</td>\n",
       "      <td>209657.840</td>\n",
       "      <td>415557.868</td>\n",
       "    </tr>\n",
       "    <tr>\n",
       "      <th>3</th>\n",
       "      <td>정류장</td>\n",
       "      <td>91281001</td>\n",
       "      <td>용인시</td>\n",
       "      <td>고기동</td>\n",
       "      <td>244-3도</td>\n",
       "      <td>마을버스</td>\n",
       "      <td>바다목장</td>\n",
       "      <td>표지설치</td>\n",
       "      <td>204626.268</td>\n",
       "      <td>428727.451</td>\n",
       "    </tr>\n",
       "    <tr>\n",
       "      <th>4</th>\n",
       "      <td>정류장</td>\n",
       "      <td>91282001</td>\n",
       "      <td>용인시</td>\n",
       "      <td>고기동</td>\n",
       "      <td>755천</td>\n",
       "      <td>마을버스</td>\n",
       "      <td>고기3리입구</td>\n",
       "      <td>표지설치</td>\n",
       "      <td>204888.481</td>\n",
       "      <td>428943.695</td>\n",
       "    </tr>\n",
       "  </tbody>\n",
       "</table>\n",
       "</div>"
      ],
      "text/plain": [
       "  지형지물      관리번호 관리기관  법정동      지번 정류장종류      위치 정류장유형           X           Y\n",
       "0  정류장  83000001  용인시  공세동   717 도  마을버스     미지정  지붕설치  210537.479  415994.881\n",
       "1  정류장  84000001  용인시  공세동   717 도  마을버스     미지정  지붕설치  210793.879  416207.872\n",
       "2  정류장  85000001  용인시  공세동   717 도  마을버스     미지정  지붕설치  209657.840  415557.868\n",
       "3  정류장  91281001  용인시  고기동  244-3도  마을버스    바다목장  표지설치  204626.268  428727.451\n",
       "4  정류장  91282001  용인시  고기동    755천  마을버스  고기3리입구  표지설치  204888.481  428943.695"
      ]
     },
     "execution_count": 80,
     "metadata": {},
     "output_type": "execute_result"
    }
   ],
   "source": [
    "bus = pd.read_csv('data/bus.csv',encoding='cp949')\n",
    "bus.head()"
   ]
  },
  {
   "cell_type": "code",
   "execution_count": 5,
   "metadata": {},
   "outputs": [
    {
     "data": {
      "text/plain": [
       "(1524, 10)"
      ]
     },
     "execution_count": 5,
     "metadata": {},
     "output_type": "execute_result"
    }
   ],
   "source": [
    "#행과 열의 수입니다\n",
    "bus.shape"
   ]
  },
  {
   "cell_type": "code",
   "execution_count": 7,
   "metadata": {},
   "outputs": [
    {
     "name": "stdout",
     "output_type": "stream",
     "text": [
      "<class 'pandas.core.frame.DataFrame'>\n",
      "RangeIndex: 1524 entries, 0 to 1523\n",
      "Data columns (total 10 columns):\n",
      " #   Column  Non-Null Count  Dtype  \n",
      "---  ------  --------------  -----  \n",
      " 0   지형지물    1524 non-null   object \n",
      " 1   관리번호    1524 non-null   int64  \n",
      " 2   관리기관    1524 non-null   object \n",
      " 3   법정동     1524 non-null   object \n",
      " 4   지번      1524 non-null   object \n",
      " 5   정류장종류   1524 non-null   object \n",
      " 6   위치      1524 non-null   object \n",
      " 7   정류장유형   1524 non-null   object \n",
      " 8   X       1524 non-null   float64\n",
      " 9   Y       1524 non-null   float64\n",
      "dtypes: float64(2), int64(1), object(7)\n",
      "memory usage: 119.2+ KB\n"
     ]
    }
   ],
   "source": [
    "#info를 통해 더많은 정보를 얻어줍니다\n",
    "bus.info()"
   ]
  },
  {
   "cell_type": "code",
   "execution_count": 28,
   "metadata": {},
   "outputs": [
    {
     "data": {
      "text/html": [
       "<div>\n",
       "<style scoped>\n",
       "    .dataframe tbody tr th:only-of-type {\n",
       "        vertical-align: middle;\n",
       "    }\n",
       "\n",
       "    .dataframe tbody tr th {\n",
       "        vertical-align: top;\n",
       "    }\n",
       "\n",
       "    .dataframe thead th {\n",
       "        text-align: right;\n",
       "    }\n",
       "</style>\n",
       "<table border=\"1\" class=\"dataframe\">\n",
       "  <thead>\n",
       "    <tr style=\"text-align: right;\">\n",
       "      <th></th>\n",
       "      <th>관리번호</th>\n",
       "      <th>X</th>\n",
       "      <th>Y</th>\n",
       "    </tr>\n",
       "  </thead>\n",
       "  <tbody>\n",
       "    <tr>\n",
       "      <th>count</th>\n",
       "      <td>1.524000e+03</td>\n",
       "      <td>1524.000000</td>\n",
       "      <td>1524.000000</td>\n",
       "    </tr>\n",
       "    <tr>\n",
       "      <th>mean</th>\n",
       "      <td>1.346800e+08</td>\n",
       "      <td>214655.934083</td>\n",
       "      <td>418048.281801</td>\n",
       "    </tr>\n",
       "    <tr>\n",
       "      <th>std</th>\n",
       "      <td>4.430982e+07</td>\n",
       "      <td>7550.055604</td>\n",
       "      <td>6875.996457</td>\n",
       "    </tr>\n",
       "    <tr>\n",
       "      <th>min</th>\n",
       "      <td>8.300000e+07</td>\n",
       "      <td>202977.184000</td>\n",
       "      <td>398641.214000</td>\n",
       "    </tr>\n",
       "    <tr>\n",
       "      <th>25%</th>\n",
       "      <td>9.232523e+07</td>\n",
       "      <td>208882.195750</td>\n",
       "      <td>414862.384000</td>\n",
       "    </tr>\n",
       "    <tr>\n",
       "      <th>50%</th>\n",
       "      <td>1.305060e+08</td>\n",
       "      <td>211709.527500</td>\n",
       "      <td>419143.165000</td>\n",
       "    </tr>\n",
       "    <tr>\n",
       "      <th>75%</th>\n",
       "      <td>2.011100e+08</td>\n",
       "      <td>219387.243750</td>\n",
       "      <td>423943.378250</td>\n",
       "    </tr>\n",
       "    <tr>\n",
       "      <th>max</th>\n",
       "      <td>2.015401e+08</td>\n",
       "      <td>236849.142000</td>\n",
       "      <td>429165.512000</td>\n",
       "    </tr>\n",
       "  </tbody>\n",
       "</table>\n",
       "</div>"
      ],
      "text/plain": [
       "               관리번호              X              Y\n",
       "count  1.524000e+03    1524.000000    1524.000000\n",
       "mean   1.346800e+08  214655.934083  418048.281801\n",
       "std    4.430982e+07    7550.055604    6875.996457\n",
       "min    8.300000e+07  202977.184000  398641.214000\n",
       "25%    9.232523e+07  208882.195750  414862.384000\n",
       "50%    1.305060e+08  211709.527500  419143.165000\n",
       "75%    2.011100e+08  219387.243750  423943.378250\n",
       "max    2.015401e+08  236849.142000  429165.512000"
      ]
     },
     "execution_count": 28,
     "metadata": {},
     "output_type": "execute_result"
    }
   ],
   "source": [
    "#기술통계량 구하기\n",
    "bus.describe()"
   ]
  },
  {
   "cell_type": "code",
   "execution_count": 30,
   "metadata": {},
   "outputs": [
    {
     "data": {
      "text/html": [
       "<div>\n",
       "<style scoped>\n",
       "    .dataframe tbody tr th:only-of-type {\n",
       "        vertical-align: middle;\n",
       "    }\n",
       "\n",
       "    .dataframe tbody tr th {\n",
       "        vertical-align: top;\n",
       "    }\n",
       "\n",
       "    .dataframe thead th {\n",
       "        text-align: right;\n",
       "    }\n",
       "</style>\n",
       "<table border=\"1\" class=\"dataframe\">\n",
       "  <thead>\n",
       "    <tr style=\"text-align: right;\">\n",
       "      <th></th>\n",
       "      <th>count</th>\n",
       "      <th>unique</th>\n",
       "      <th>top</th>\n",
       "      <th>freq</th>\n",
       "    </tr>\n",
       "  </thead>\n",
       "  <tbody>\n",
       "    <tr>\n",
       "      <th>지형지물</th>\n",
       "      <td>1524</td>\n",
       "      <td>1</td>\n",
       "      <td>정류장</td>\n",
       "      <td>1524</td>\n",
       "    </tr>\n",
       "    <tr>\n",
       "      <th>관리기관</th>\n",
       "      <td>1524</td>\n",
       "      <td>1</td>\n",
       "      <td>용인시</td>\n",
       "      <td>1524</td>\n",
       "    </tr>\n",
       "    <tr>\n",
       "      <th>법정동</th>\n",
       "      <td>1524</td>\n",
       "      <td>102</td>\n",
       "      <td>풍덕천동</td>\n",
       "      <td>90</td>\n",
       "    </tr>\n",
       "    <tr>\n",
       "      <th>지번</th>\n",
       "      <td>1524</td>\n",
       "      <td>1108</td>\n",
       "      <td>1045도</td>\n",
       "      <td>15</td>\n",
       "    </tr>\n",
       "    <tr>\n",
       "      <th>정류장종류</th>\n",
       "      <td>1524</td>\n",
       "      <td>8</td>\n",
       "      <td>일반버스</td>\n",
       "      <td>924</td>\n",
       "    </tr>\n",
       "    <tr>\n",
       "      <th>위치</th>\n",
       "      <td>1524</td>\n",
       "      <td>751</td>\n",
       "      <td></td>\n",
       "      <td>390</td>\n",
       "    </tr>\n",
       "    <tr>\n",
       "      <th>정류장유형</th>\n",
       "      <td>1524</td>\n",
       "      <td>4</td>\n",
       "      <td>지붕설치</td>\n",
       "      <td>958</td>\n",
       "    </tr>\n",
       "  </tbody>\n",
       "</table>\n",
       "</div>"
      ],
      "text/plain": [
       "      count unique    top  freq\n",
       "지형지물   1524      1    정류장  1524\n",
       "관리기관   1524      1    용인시  1524\n",
       "법정동    1524    102   풍덕천동    90\n",
       "지번     1524   1108  1045도    15\n",
       "정류장종류  1524      8   일반버스   924\n",
       "위치     1524    751          390\n",
       "정류장유형  1524      4   지붕설치   958"
      ]
     },
     "execution_count": 30,
     "metadata": {},
     "output_type": "execute_result"
    }
   ],
   "source": [
    "#문자열에 대한 통계\n",
    "bus.describe(include=['object']).T"
   ]
  },
  {
   "cell_type": "code",
   "execution_count": null,
   "metadata": {},
   "outputs": [],
   "source": [
    "기술통계를 통해서 데이터형식변환으로 메모리를 줄여줍니다"
   ]
  },
  {
   "cell_type": "code",
   "execution_count": 31,
   "metadata": {},
   "outputs": [
    {
     "data": {
      "text/plain": [
       "지형지물     0\n",
       "관리번호     0\n",
       "관리기관     0\n",
       "법정동      0\n",
       "지번       0\n",
       "정류장종류    0\n",
       "위치       0\n",
       "정류장유형    0\n",
       "X        0\n",
       "Y        0\n",
       "dtype: int64"
      ]
     },
     "execution_count": 31,
     "metadata": {},
     "output_type": "execute_result"
    }
   ],
   "source": [
    "#na값 확인\n",
    "bus.isnull().sum()"
   ]
  },
  {
   "cell_type": "code",
   "execution_count": 70,
   "metadata": {},
   "outputs": [],
   "source": [
    "bus['관리번호']=bus['관리번호'].astype(np.int32)"
   ]
  },
  {
   "cell_type": "code",
   "execution_count": 85,
   "metadata": {},
   "outputs": [],
   "source": [
    "bus['X']=bus['X'].astype(np.float32)\n",
    "bus['Y']=bus['Y'].astype(np.float32)"
   ]
  },
  {
   "cell_type": "code",
   "execution_count": 89,
   "metadata": {},
   "outputs": [
    {
     "data": {
      "text/plain": [
       "지형지물        1\n",
       "관리기관        1\n",
       "법정동       102\n",
       "지번       1108\n",
       "정류장종류       8\n",
       "위치        751\n",
       "정류장유형       4\n",
       "dtype: int64"
      ]
     },
     "execution_count": 89,
     "metadata": {},
     "output_type": "execute_result"
    }
   ],
   "source": [
    "#고유값이 적은걸 확인해준다\n",
    "bus.select_dtypes(include=['object']).nunique()"
   ]
  },
  {
   "cell_type": "code",
   "execution_count": 93,
   "metadata": {},
   "outputs": [],
   "source": [
    "bus['지형지물'] = bus['지형지물'].astype('category')\n",
    "bus['관리기관'] = bus['관리기관'].astype('category')\n",
    "bus['정류장종류'] = bus['정류장종류'].astype('category')\n",
    "bus['정류장유형'] = bus['정류장유형'].astype('category')\n",
    "bus['법정동'] = bus['법정동'].astype('category')"
   ]
  },
  {
   "cell_type": "code",
   "execution_count": 94,
   "metadata": {},
   "outputs": [
    {
     "name": "stdout",
     "output_type": "stream",
     "text": [
      "<class 'pandas.core.frame.DataFrame'>\n",
      "RangeIndex: 1524 entries, 0 to 1523\n",
      "Data columns (total 10 columns):\n",
      " #   Column  Non-Null Count  Dtype   \n",
      "---  ------  --------------  -----   \n",
      " 0   지형지물    1524 non-null   category\n",
      " 1   관리번호    1524 non-null   int64   \n",
      " 2   관리기관    1524 non-null   category\n",
      " 3   법정동     1524 non-null   category\n",
      " 4   지번      1524 non-null   object  \n",
      " 5   정류장종류   1524 non-null   category\n",
      " 6   위치      1524 non-null   object  \n",
      " 7   정류장유형   1524 non-null   category\n",
      " 8   X       1524 non-null   float32 \n",
      " 9   Y       1524 non-null   float32 \n",
      "dtypes: category(5), float32(2), int64(1), object(2)\n",
      "memory usage: 61.7+ KB\n"
     ]
    }
   ],
   "source": [
    "#데이터가 120kb 에서 60kb로 줄어들었다\n",
    "bus.info()"
   ]
  },
  {
   "cell_type": "code",
   "execution_count": 14,
   "metadata": {},
   "outputs": [
    {
     "data": {
      "text/plain": [
       "풍덕천동    90\n",
       "죽전동     77\n",
       "영덕동     54\n",
       "신갈동     54\n",
       "동천동     47\n",
       "        ..\n",
       "학일리      1\n",
       "정수리      1\n",
       "문촌리      1\n",
       "호동       1\n",
       "석천리      1\n",
       "Name: 법정동, Length: 102, dtype: int64"
      ]
     },
     "execution_count": 14,
     "metadata": {},
     "output_type": "execute_result"
    }
   ],
   "source": [
    "bus.법정동.value_counts()"
   ]
  },
  {
   "cell_type": "code",
   "execution_count": 19,
   "metadata": {},
   "outputs": [
    {
     "data": {
      "text/plain": [
       "0       공세동\n",
       "1       공세동\n",
       "2       공세동\n",
       "3       고기동\n",
       "4       고기동\n",
       "       ... \n",
       "1519    아곡리\n",
       "1520    완장리\n",
       "1521    완장리\n",
       "1522    완장리\n",
       "1523    어비리\n",
       "Name: 법정동, Length: 1524, dtype: object"
      ]
     },
     "execution_count": 19,
     "metadata": {},
     "output_type": "execute_result"
    }
   ],
   "source": [
    "법정동=bus['법정동']\n",
    "법정동"
   ]
  },
  {
   "cell_type": "code",
   "execution_count": 27,
   "metadata": {},
   "outputs": [
    {
     "data": {
      "text/plain": [
       "103     성복동\n",
       "104     성복동\n",
       "105     성복동\n",
       "106     성복동\n",
       "107     성복동\n",
       "108     성복동\n",
       "109     성복동\n",
       "110     성복동\n",
       "111     성복동\n",
       "113     성복동\n",
       "114     성복동\n",
       "115     성복동\n",
       "116     성복동\n",
       "131     성복동\n",
       "132     성복동\n",
       "133     성복동\n",
       "134     성복동\n",
       "135     성복동\n",
       "136     성복동\n",
       "138     성복동\n",
       "1303    성복동\n",
       "1304    성복동\n",
       "1305    성복동\n",
       "1306    성복동\n",
       "1349    성복동\n",
       "1350    성복동\n",
       "1351    성복동\n",
       "1352    성복동\n",
       "1353    성복동\n",
       "1354    성복동\n",
       "1355    성복동\n",
       "1411    성복동\n",
       "1412    성복동\n",
       "1413    성복동\n",
       "1414    성복동\n",
       "1415    성복동\n",
       "1416    성복동\n",
       "1427    성복동\n",
       "1428    성복동\n",
       "1473    성복동\n",
       "Name: 법정동, dtype: object"
      ]
     },
     "execution_count": 27,
     "metadata": {},
     "output_type": "execute_result"
    }
   ],
   "source": [
    "asd=법정동.isin(['성복동'])\n",
    "법정동[asd]"
   ]
  },
  {
   "cell_type": "code",
   "execution_count": null,
   "metadata": {},
   "outputs": [],
   "source": []
  },
  {
   "cell_type": "code",
   "execution_count": null,
   "metadata": {},
   "outputs": [],
   "source": []
  }
 ],
 "metadata": {
  "kernelspec": {
   "display_name": "Python 3",
   "language": "python",
   "name": "python3"
  },
  "language_info": {
   "codemirror_mode": {
    "name": "ipython",
    "version": 3
   },
   "file_extension": ".py",
   "mimetype": "text/x-python",
   "name": "python",
   "nbconvert_exporter": "python",
   "pygments_lexer": "ipython3",
   "version": "3.8.5"
  }
 },
 "nbformat": 4,
 "nbformat_minor": 4
}
